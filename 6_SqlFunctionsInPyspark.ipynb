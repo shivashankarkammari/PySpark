{
  "cells": [
    {
      "cell_type": "markdown",
      "metadata": {
        "id": "view-in-github",
        "colab_type": "text"
      },
      "source": [
        "<a href=\"https://colab.research.google.com/github/shivashankarkammari/PySpark/blob/main/6_SqlFunctionsInPyspark.ipynb\" target=\"_parent\"><img src=\"https://colab.research.google.com/assets/colab-badge.svg\" alt=\"Open In Colab\"/></a>"
      ]
    },
    {
      "cell_type": "code",
      "execution_count": null,
      "metadata": {
        "colab": {
          "base_uri": "https://localhost:8080/"
        },
        "id": "pbwrm1qZHg47",
        "outputId": "844186af-821c-480e-eba3-37b473da8e75"
      },
      "outputs": [
        {
          "name": "stdout",
          "output_type": "stream",
          "text": [
            "Collecting pyspark\n",
            "  Downloading pyspark-3.5.0.tar.gz (316.9 MB)\n",
            "\u001b[2K     \u001b[90m━━━━━━━━━━━━━━━━━━━━━━━━━━━━━━━━━━━━━━━━\u001b[0m \u001b[32m316.9/316.9 MB\u001b[0m \u001b[31m4.0 MB/s\u001b[0m eta \u001b[36m0:00:00\u001b[0m\n",
            "\u001b[?25h  Preparing metadata (setup.py) ... \u001b[?25l\u001b[?25hdone\n",
            "Requirement already satisfied: py4j==0.10.9.7 in /usr/local/lib/python3.10/dist-packages (from pyspark) (0.10.9.7)\n",
            "Building wheels for collected packages: pyspark\n",
            "  Building wheel for pyspark (setup.py) ... \u001b[?25l\u001b[?25hdone\n",
            "  Created wheel for pyspark: filename=pyspark-3.5.0-py2.py3-none-any.whl size=317425344 sha256=ecb754f2391ec6d468226ce3d5389e2738519f01146a4798abc9ade8da466fa5\n",
            "  Stored in directory: /root/.cache/pip/wheels/41/4e/10/c2cf2467f71c678cfc8a6b9ac9241e5e44a01940da8fbb17fc\n",
            "Successfully built pyspark\n",
            "Installing collected packages: pyspark\n",
            "Successfully installed pyspark-3.5.0\n"
          ]
        }
      ],
      "source": [
        "!pip install pyspark"
      ]
    },
    {
      "cell_type": "code",
      "execution_count": null,
      "metadata": {
        "id": "918AzSSvHn4o"
      },
      "outputs": [],
      "source": [
        "from pyspark.sql import SparkSession\n",
        "\n",
        "spark = SparkSession.builder.appName(\"Functions\").getOrCreate()"
      ]
    },
    {
      "cell_type": "code",
      "execution_count": null,
      "metadata": {
        "colab": {
          "base_uri": "https://localhost:8080/"
        },
        "id": "DZa5_FDRH3qJ",
        "outputId": "86d1179d-5b25-4682-bb03-826813cdf2ae"
      },
      "outputs": [
        {
          "name": "stdout",
          "output_type": "stream",
          "text": [
            "root\n",
            " |-- fname: string (nullable = true)\n",
            " |-- lname: string (nullable = true)\n",
            " |-- id: string (nullable = true)\n",
            " |-- gender: string (nullable = true)\n",
            "\n"
          ]
        }
      ],
      "source": [
        "from pyspark.sql.functions import *\n",
        "\n",
        "data=[(\"James\",\"Bond\",\"100\",None),\n",
        "      (\"Ann\",\"Varsa\",\"200\",'F'),\n",
        "      (\"Tom Cruise\",\"XXX\",\"400\",''),\n",
        "      (\"Tom Brand\",None,\"400\",'M'),\n",
        "      (\"cristiano\",None,None,None),\n",
        "      (\"Rohit\",None,None,None)]\n",
        "\n",
        "columns=[\"fname\",\"lname\",\"id\",\"gender\"]\n",
        "df1=spark.createDataFrame(data,columns)\n",
        "\n",
        "df.printSchema()"
      ]
    },
    {
      "cell_type": "markdown",
      "metadata": {
        "id": "I4-Ni_CuIAgw"
      },
      "source": [
        "\n",
        "\n",
        "**char_length(col(columnName))**---> gives length of element in column"
      ]
    },
    {
      "cell_type": "code",
      "execution_count": null,
      "metadata": {
        "colab": {
          "base_uri": "https://localhost:8080/"
        },
        "id": "QSz14xp0H-2O",
        "outputId": "1b9c1706-df1c-460f-e702-97747693b6f8"
      },
      "outputs": [
        {
          "name": "stdout",
          "output_type": "stream",
          "text": [
            "+----------+----------+\n",
            "|     fname|char count|\n",
            "+----------+----------+\n",
            "|     James|         5|\n",
            "|       Ann|         3|\n",
            "|Tom Cruise|        10|\n",
            "| Tom Brand|         9|\n",
            "| cristiano|         9|\n",
            "|     Rohit|         5|\n",
            "+----------+----------+\n",
            "\n"
          ]
        }
      ],
      "source": [
        "df1.select(col(\"fname\"),char_length(col(\"fname\")).name(\"char count\")).show()"
      ]
    },
    {
      "cell_type": "markdown",
      "metadata": {
        "id": "yXqucHxTIgc7"
      },
      "source": [
        "**concat(col(colName),col(colNAme))** --> combines elements of the columns"
      ]
    },
    {
      "cell_type": "code",
      "execution_count": null,
      "metadata": {
        "colab": {
          "base_uri": "https://localhost:8080/"
        },
        "id": "GFPs9wk7IWNf",
        "outputId": "3cf9cb17-9a63-4ad8-d2e9-0c65f22b383b"
      },
      "outputs": [
        {
          "name": "stdout",
          "output_type": "stream",
          "text": [
            "+----------+-----+-------------+\n",
            "|     fname|lname|     FullName|\n",
            "+----------+-----+-------------+\n",
            "|     James| Bond|    JamesBond|\n",
            "|       Ann|Varsa|     AnnVarsa|\n",
            "|Tom Cruise|  XXX|Tom CruiseXXX|\n",
            "| Tom Brand| NULL|         NULL|\n",
            "| cristiano| NULL|         NULL|\n",
            "|     Rohit| NULL|         NULL|\n",
            "+----------+-----+-------------+\n",
            "\n"
          ]
        }
      ],
      "source": [
        "df1.select(col(\"fname\"),col(\"lname\"),concat(col(\"fname\"),col(\"lname\")).alias(\"FullName\")).show()"
      ]
    },
    {
      "cell_type": "markdown",
      "metadata": {
        "id": "khdH1JryI-Bx"
      },
      "source": [
        "**concat_ws(col(colName),sepeartor)** --> concates the elements of cols with the give seperator"
      ]
    },
    {
      "cell_type": "code",
      "execution_count": null,
      "metadata": {
        "colab": {
          "base_uri": "https://localhost:8080/"
        },
        "id": "r9-ace4CI2yb",
        "outputId": "407f2b99-63f3-4b3c-fcb2-bf1acc397efe"
      },
      "outputs": [
        {
          "name": "stdout",
          "output_type": "stream",
          "text": [
            "+--------------+\n",
            "|     Full_name|\n",
            "+--------------+\n",
            "|    James_Bond|\n",
            "|     Ann_Varsa|\n",
            "|Tom Cruise_XXX|\n",
            "|     Tom Brand|\n",
            "|     cristiano|\n",
            "|         Rohit|\n",
            "+--------------+\n",
            "\n"
          ]
        }
      ],
      "source": [
        "df1.select(concat_ws(\"_\",col(\"fname\"),col(\"lname\")).alias(\"Full_name\")).show()"
      ]
    },
    {
      "cell_type": "markdown",
      "metadata": {
        "id": "MGHxXrqvKWZP"
      },
      "source": [
        "**lcase(col(ColName))/lower(col(colName))**---> converts the col elements to lower case."
      ]
    },
    {
      "cell_type": "code",
      "execution_count": null,
      "metadata": {
        "colab": {
          "base_uri": "https://localhost:8080/"
        },
        "id": "o3ZEH6vLJbly",
        "outputId": "8cef9c71-0ae4-49ac-ffe9-26ed75380fbb"
      },
      "outputs": [
        {
          "name": "stdout",
          "output_type": "stream",
          "text": [
            "+----------+\n",
            "|LowerFName|\n",
            "+----------+\n",
            "|     james|\n",
            "|       ann|\n",
            "|tom cruise|\n",
            "| tom brand|\n",
            "| cristiano|\n",
            "|     rohit|\n",
            "+----------+\n",
            "\n"
          ]
        }
      ],
      "source": [
        "df1.select(lcase(col(\"fname\")).alias(\"LowerFName\")).show()"
      ]
    },
    {
      "cell_type": "markdown",
      "metadata": {
        "id": "Ua0JlXchKg0d"
      },
      "source": [
        "**ucase(col(colName))/upper(col(colName))** -- > converts the col elements to upper case.\n"
      ]
    },
    {
      "cell_type": "code",
      "execution_count": null,
      "metadata": {
        "colab": {
          "base_uri": "https://localhost:8080/"
        },
        "id": "kejEmgNKKOIS",
        "outputId": "ffe2fd48-19ad-4b12-e35b-94283d8c80b3"
      },
      "outputs": [
        {
          "name": "stdout",
          "output_type": "stream",
          "text": [
            "+------------+\n",
            "|ucase(fname)|\n",
            "+------------+\n",
            "|       JAMES|\n",
            "|         ANN|\n",
            "|  TOM CRUISE|\n",
            "|   TOM BRAND|\n",
            "|   CRISTIANO|\n",
            "|       ROHIT|\n",
            "+------------+\n",
            "\n"
          ]
        }
      ],
      "source": [
        "df1.select(ucase(col(\"fname\"))).show()"
      ]
    },
    {
      "cell_type": "markdown",
      "metadata": {
        "id": "AAupkQXdLC2g"
      },
      "source": [
        "**left(col(colName),numberofchar)/**\n",
        "\n",
        "**right(col(colName),numberofchar)**-->extracts the number of char from col elements from left.\n",
        "\n",
        "here when defining the number of char to be extracted we need to use the lit(n) as it takes the col type."
      ]
    },
    {
      "cell_type": "code",
      "execution_count": null,
      "metadata": {
        "colab": {
          "base_uri": "https://localhost:8080/"
        },
        "id": "6qfs44I-K5dj",
        "outputId": "e023b458-e20b-42f9-cf63-94481799cffb"
      },
      "outputs": [
        {
          "name": "stdout",
          "output_type": "stream",
          "text": [
            "+--------------+\n",
            "|left(fname, 3)|\n",
            "+--------------+\n",
            "|           Jam|\n",
            "|           Ann|\n",
            "|           Tom|\n",
            "|           Tom|\n",
            "|           cri|\n",
            "|           Roh|\n",
            "+--------------+\n",
            "\n",
            "+---------------+\n",
            "|right(fname, 3)|\n",
            "+---------------+\n",
            "|            mes|\n",
            "|            Ann|\n",
            "|            ise|\n",
            "|            and|\n",
            "|            ano|\n",
            "|            hit|\n",
            "+---------------+\n",
            "\n"
          ]
        }
      ],
      "source": [
        "df1.select(left(col(\"fname\"),lit(3))).show()\n",
        "df1.select(right(col(\"fname\"),lit(3))).show()"
      ]
    },
    {
      "cell_type": "markdown",
      "metadata": {
        "id": "HB5WCJ1yN6MY"
      },
      "source": [
        "**ltrim(col(colName))**\n",
        "\n",
        "**rtrim(col(colName))**\n",
        "\n",
        "removes the spaces fro the elements of columns."
      ]
    },
    {
      "cell_type": "code",
      "execution_count": null,
      "metadata": {
        "colab": {
          "base_uri": "https://localhost:8080/"
        },
        "id": "ahTRTIN3LV2J",
        "outputId": "70560cfb-52f4-4383-fb30-656497a5692c"
      },
      "outputs": [
        {
          "name": "stdout",
          "output_type": "stream",
          "text": [
            "+--------------------+-----+----+------+\n",
            "|               fname|lname|  id|gender|\n",
            "+--------------------+-----+----+------+\n",
            "|               James| Bond| 100|  NULL|\n",
            "|                 Ann|Varsa| 200|     F|\n",
            "|            Tom C...|  XXX| 400|      |\n",
            "|             Tom ...| NULL| 400|     M|\n",
            "|               cr...| NULL|NULL|  NULL|\n",
            "|                 ...| NULL|NULL|  NULL|\n",
            "+--------------------+-----+----+------+\n",
            "\n"
          ]
        }
      ],
      "source": [
        "data=[(\"            James\",\"Bond\",\"100\",None),\n",
        "      (\"            Ann\",\"Varsa\",\"200\",'F'),\n",
        "      (\"            Tom Cruise\",\"XXX\",\"400\",''),\n",
        "      (\"             Tom Brand\",None,\"400\",'M'),\n",
        "      (\"               cristiano\",None,None,None),\n",
        "      (\"                                     Rohit\",None,None,None)]\n",
        "\n",
        "columns=[\"fname\",\"lname\",\"id\",\"gender\"]\n",
        "df=spark.createDataFrame(data,columns)\n",
        "df.show()"
      ]
    },
    {
      "cell_type": "code",
      "execution_count": null,
      "metadata": {
        "colab": {
          "base_uri": "https://localhost:8080/"
        },
        "id": "woqgZEsHNXOz",
        "outputId": "95efd37b-fa6f-4d39-ceb9-21a803b0e769"
      },
      "outputs": [
        {
          "name": "stdout",
          "output_type": "stream",
          "text": [
            "+------------+\n",
            "|ltrim(fname)|\n",
            "+------------+\n",
            "|       James|\n",
            "|         Ann|\n",
            "|  Tom Cruise|\n",
            "|   Tom Brand|\n",
            "|   cristiano|\n",
            "|       Rohit|\n",
            "+------------+\n",
            "\n"
          ]
        }
      ],
      "source": [
        "df.select(ltrim(col(\"fname\"))).show()"
      ]
    },
    {
      "cell_type": "markdown",
      "metadata": {
        "id": "iaF1OBUTORCT"
      },
      "source": [
        "**Repeat(col(colName))**"
      ]
    },
    {
      "cell_type": "code",
      "execution_count": null,
      "metadata": {
        "colab": {
          "background_save": true
        },
        "id": "1dALugFJNi5O",
        "outputId": "febf6b10-2902-4a01-afb4-2ae224236cd2"
      },
      "outputs": [
        {
          "name": "stdout",
          "output_type": "stream",
          "text": [
            "+--------------------+\n",
            "|    repeat(fname, 2)|\n",
            "+--------------------+\n",
            "|          JamesJames|\n",
            "|              AnnAnn|\n",
            "|Tom CruiseTom Cruise|\n",
            "|  Tom BrandTom Brand|\n",
            "|  cristianocristiano|\n",
            "|          RohitRohit|\n",
            "+--------------------+\n",
            "\n"
          ]
        }
      ],
      "source": [
        "df1.select(repeat(col(\"fname\"),2)).show()"
      ]
    },
    {
      "cell_type": "code",
      "execution_count": null,
      "metadata": {
        "id": "UFpWC7xyOeYH"
      },
      "outputs": [],
      "source": []
    }
  ],
  "metadata": {
    "colab": {
      "provenance": [],
      "authorship_tag": "ABX9TyNyXfTaHM4Tt6cRdU4l76VH",
      "include_colab_link": true
    },
    "kernelspec": {
      "display_name": "Python 3",
      "name": "python3"
    },
    "language_info": {
      "name": "python"
    }
  },
  "nbformat": 4,
  "nbformat_minor": 0
}